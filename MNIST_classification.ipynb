{
  "nbformat": 4,
  "nbformat_minor": 0,
  "metadata": {
    "colab": {
      "name": "MNIST classification.ipynb",
      "provenance": [],
      "collapsed_sections": [],
      "authorship_tag": "ABX9TyOcjg66rMxz8wq9Lgkz5cad",
      "include_colab_link": true
    },
    "kernelspec": {
      "name": "python3",
      "display_name": "Python 3"
    },
    "accelerator": "GPU"
  },
  "cells": [
    {
      "cell_type": "markdown",
      "metadata": {
        "id": "view-in-github",
        "colab_type": "text"
      },
      "source": [
        "<a href=\"https://colab.research.google.com/github/jude1997felix/MNIST-Classification/blob/main/MNIST_classification.ipynb\" target=\"_parent\"><img src=\"https://colab.research.google.com/assets/colab-badge.svg\" alt=\"Open In Colab\"/></a>"
      ]
    },
    {
      "cell_type": "code",
      "metadata": {
        "id": "Q3ZaIQfUkttj"
      },
      "source": [
        "import numpy as np\n",
        "from keras.models import model_from_json\n",
        "import pandas as pd\n",
        "\n",
        "from tensorflow import keras\n",
        "from tensorflow.keras import layers"
      ],
      "execution_count": 69,
      "outputs": []
    },
    {
      "cell_type": "code",
      "metadata": {
        "id": "qvDEzendlGGZ",
        "outputId": "37a99a9f-5b36-489d-fb4a-969d1c2a9285",
        "colab": {
          "base_uri": "https://localhost:8080/"
        }
      },
      "source": [
        "#  Model / data parameters\n",
        "num_classes = 10\n",
        "input_shape = (28, 28, 1)\n",
        "\n",
        "path = '/content/trainset.csv'\n",
        "\n",
        "df = pd.read_csv(path)\n",
        "n = len(df)\n",
        "train = df[0:int(n*0.85)]\n",
        "test = df[int(n*0.85):]\n",
        "len(train)"
      ],
      "execution_count": 70,
      "outputs": [
        {
          "output_type": "execute_result",
          "data": {
            "text/plain": [
              "23800"
            ]
          },
          "metadata": {
            "tags": []
          },
          "execution_count": 70
        }
      ]
    },
    {
      "cell_type": "code",
      "metadata": {
        "id": "19_d6dHGpGaf"
      },
      "source": [
        "y_train = train['label'].values\n",
        "del train['label']\n",
        "x_train = train.values\n",
        "\n",
        "y_test = test['label'].values\n",
        "del test['label']\n",
        "x_test = test.values\n"
      ],
      "execution_count": 71,
      "outputs": []
    },
    {
      "cell_type": "code",
      "metadata": {
        "id": "Y48rprlHKGqm",
        "outputId": "71971eef-e361-4ea1-c864-5989ca73af54",
        "colab": {
          "base_uri": "https://localhost:8080/"
        }
      },
      "source": [
        "x_train = x_train.reshape(len(train),28,28)\n",
        "x_test = x_test.reshape(len(test),28,28,1)\n",
        "x_train = np.expand_dims(x_train, -1)\n",
        "x_test = np.expand_dims(x_test, -1)\n",
        "\n",
        "print(\"x_train shape:\", x_train.shape)\n",
        "print(x_train.shape[0], \"train samples\")\n",
        "print(x_test.shape[0], \"test samples\")"
      ],
      "execution_count": 72,
      "outputs": [
        {
          "output_type": "stream",
          "text": [
            "x_train shape: (23800, 28, 28, 1)\n",
            "23800 train samples\n",
            "4200 test samples\n"
          ],
          "name": "stdout"
        }
      ]
    },
    {
      "cell_type": "code",
      "metadata": {
        "id": "qD8bXX9eKxoY",
        "outputId": "2435dadb-8fdd-4bec-de82-171dc3f95ec3",
        "colab": {
          "base_uri": "https://localhost:8080/"
        }
      },
      "source": [
        "# convert class vectors to binary class matrices\n",
        "y_train = keras.utils.to_categorical(y_train, num_classes)\n",
        "y_test = keras.utils.to_categorical(y_test, num_classes)\n",
        "print(y_train.shape)"
      ],
      "execution_count": 73,
      "outputs": [
        {
          "output_type": "stream",
          "text": [
            "(23800, 10)\n"
          ],
          "name": "stdout"
        }
      ]
    },
    {
      "cell_type": "code",
      "metadata": {
        "id": "mse6ga_WH-Kc",
        "outputId": "349d7147-ea0f-4604-f3a3-c97a48e9a45e",
        "colab": {
          "base_uri": "https://localhost:8080/"
        }
      },
      "source": [
        "model = keras.Sequential(\n",
        "    [\n",
        "        keras.Input(shape=input_shape),\n",
        "        layers.Conv2D(32, kernel_size=(3, 3), activation=\"relu\"),\n",
        "        layers.MaxPooling2D(pool_size=(2, 2)),\n",
        "        layers.Conv2D(64, kernel_size=(3, 3), activation=\"relu\"),\n",
        "        layers.MaxPooling2D(pool_size=(2, 2)),\n",
        "        layers.Flatten(),\n",
        "        layers.Dropout(0.5),\n",
        "        layers.Dense(num_classes, activation=\"softmax\"),\n",
        "    ]\n",
        ")\n",
        "\n",
        "model.summary()\n"
      ],
      "execution_count": 74,
      "outputs": [
        {
          "output_type": "stream",
          "text": [
            "Model: \"sequential_4\"\n",
            "_________________________________________________________________\n",
            "Layer (type)                 Output Shape              Param #   \n",
            "=================================================================\n",
            "conv2d_8 (Conv2D)            (None, 26, 26, 32)        320       \n",
            "_________________________________________________________________\n",
            "max_pooling2d_8 (MaxPooling2 (None, 13, 13, 32)        0         \n",
            "_________________________________________________________________\n",
            "conv2d_9 (Conv2D)            (None, 11, 11, 64)        18496     \n",
            "_________________________________________________________________\n",
            "max_pooling2d_9 (MaxPooling2 (None, 5, 5, 64)          0         \n",
            "_________________________________________________________________\n",
            "flatten_4 (Flatten)          (None, 1600)              0         \n",
            "_________________________________________________________________\n",
            "dropout_4 (Dropout)          (None, 1600)              0         \n",
            "_________________________________________________________________\n",
            "dense_4 (Dense)              (None, 10)                16010     \n",
            "=================================================================\n",
            "Total params: 34,826\n",
            "Trainable params: 34,826\n",
            "Non-trainable params: 0\n",
            "_________________________________________________________________\n"
          ],
          "name": "stdout"
        }
      ]
    },
    {
      "cell_type": "code",
      "metadata": {
        "id": "NM4UTMjyIB2Y",
        "outputId": "05d32a51-c607-42d4-b53d-a31ffe6a42e2",
        "colab": {
          "base_uri": "https://localhost:8080/"
        }
      },
      "source": [
        "batch_size = 128\n",
        "epochs = 25\n",
        "\n",
        "model.compile(loss=\"categorical_crossentropy\", optimizer=\"adam\", metrics=[\"accuracy\"])\n",
        "\n",
        "model.fit(x_train, y_train, batch_size=batch_size, epochs=epochs, validation_split=0.1)"
      ],
      "execution_count": 75,
      "outputs": [
        {
          "output_type": "stream",
          "text": [
            "Epoch 1/25\n",
            "168/168 [==============================] - 1s 6ms/step - loss: 4.2781 - accuracy: 0.4062 - val_loss: 0.7278 - val_accuracy: 0.7685\n",
            "Epoch 2/25\n",
            "168/168 [==============================] - 1s 5ms/step - loss: 0.7865 - accuracy: 0.7381 - val_loss: 0.3608 - val_accuracy: 0.8937\n",
            "Epoch 3/25\n",
            "168/168 [==============================] - 1s 5ms/step - loss: 0.5044 - accuracy: 0.8366 - val_loss: 0.2445 - val_accuracy: 0.9307\n",
            "Epoch 4/25\n",
            "168/168 [==============================] - 1s 5ms/step - loss: 0.3888 - accuracy: 0.8747 - val_loss: 0.2065 - val_accuracy: 0.9429\n",
            "Epoch 5/25\n",
            "168/168 [==============================] - 1s 5ms/step - loss: 0.3330 - accuracy: 0.8923 - val_loss: 0.1824 - val_accuracy: 0.9462\n",
            "Epoch 6/25\n",
            "168/168 [==============================] - 1s 5ms/step - loss: 0.2920 - accuracy: 0.9067 - val_loss: 0.1658 - val_accuracy: 0.9546\n",
            "Epoch 7/25\n",
            "168/168 [==============================] - 1s 5ms/step - loss: 0.2642 - accuracy: 0.9131 - val_loss: 0.1744 - val_accuracy: 0.9458\n",
            "Epoch 8/25\n",
            "168/168 [==============================] - 1s 5ms/step - loss: 0.2426 - accuracy: 0.9232 - val_loss: 0.1517 - val_accuracy: 0.9538\n",
            "Epoch 9/25\n",
            "168/168 [==============================] - 1s 5ms/step - loss: 0.2322 - accuracy: 0.9232 - val_loss: 0.1423 - val_accuracy: 0.9584\n",
            "Epoch 10/25\n",
            "168/168 [==============================] - 1s 5ms/step - loss: 0.2083 - accuracy: 0.9327 - val_loss: 0.1490 - val_accuracy: 0.9546\n",
            "Epoch 11/25\n",
            "168/168 [==============================] - 1s 5ms/step - loss: 0.2062 - accuracy: 0.9334 - val_loss: 0.1316 - val_accuracy: 0.9588\n",
            "Epoch 12/25\n",
            "168/168 [==============================] - 1s 5ms/step - loss: 0.1902 - accuracy: 0.9380 - val_loss: 0.1471 - val_accuracy: 0.9597\n",
            "Epoch 13/25\n",
            "168/168 [==============================] - 1s 5ms/step - loss: 0.1845 - accuracy: 0.9404 - val_loss: 0.1300 - val_accuracy: 0.9605\n",
            "Epoch 14/25\n",
            "168/168 [==============================] - 1s 5ms/step - loss: 0.1749 - accuracy: 0.9437 - val_loss: 0.1207 - val_accuracy: 0.9609\n",
            "Epoch 15/25\n",
            "168/168 [==============================] - 1s 5ms/step - loss: 0.1673 - accuracy: 0.9446 - val_loss: 0.1286 - val_accuracy: 0.9622\n",
            "Epoch 16/25\n",
            "168/168 [==============================] - 1s 5ms/step - loss: 0.1603 - accuracy: 0.9489 - val_loss: 0.1218 - val_accuracy: 0.9647\n",
            "Epoch 17/25\n",
            "168/168 [==============================] - 1s 5ms/step - loss: 0.1524 - accuracy: 0.9503 - val_loss: 0.1147 - val_accuracy: 0.9672\n",
            "Epoch 18/25\n",
            "168/168 [==============================] - 1s 5ms/step - loss: 0.1496 - accuracy: 0.9510 - val_loss: 0.1208 - val_accuracy: 0.9618\n",
            "Epoch 19/25\n",
            "168/168 [==============================] - 1s 5ms/step - loss: 0.1433 - accuracy: 0.9535 - val_loss: 0.1161 - val_accuracy: 0.9685\n",
            "Epoch 20/25\n",
            "168/168 [==============================] - 1s 5ms/step - loss: 0.1378 - accuracy: 0.9549 - val_loss: 0.1198 - val_accuracy: 0.9676\n",
            "Epoch 21/25\n",
            "168/168 [==============================] - 1s 5ms/step - loss: 0.1359 - accuracy: 0.9567 - val_loss: 0.1172 - val_accuracy: 0.9697\n",
            "Epoch 22/25\n",
            "168/168 [==============================] - 1s 5ms/step - loss: 0.1277 - accuracy: 0.9583 - val_loss: 0.1128 - val_accuracy: 0.9634\n",
            "Epoch 23/25\n",
            "168/168 [==============================] - 1s 5ms/step - loss: 0.1209 - accuracy: 0.9596 - val_loss: 0.1222 - val_accuracy: 0.9655\n",
            "Epoch 24/25\n",
            "168/168 [==============================] - 1s 5ms/step - loss: 0.1189 - accuracy: 0.9626 - val_loss: 0.1119 - val_accuracy: 0.9672\n",
            "Epoch 25/25\n",
            "168/168 [==============================] - 1s 5ms/step - loss: 0.1156 - accuracy: 0.9627 - val_loss: 0.1189 - val_accuracy: 0.9710\n"
          ],
          "name": "stdout"
        },
        {
          "output_type": "execute_result",
          "data": {
            "text/plain": [
              "<tensorflow.python.keras.callbacks.History at 0x7fc7da4cb978>"
            ]
          },
          "metadata": {
            "tags": []
          },
          "execution_count": 75
        }
      ]
    },
    {
      "cell_type": "code",
      "metadata": {
        "id": "10oTTmbpIVID",
        "outputId": "0ff8e2c3-bc41-4863-ce95-c7ad0d248812",
        "colab": {
          "base_uri": "https://localhost:8080/"
        }
      },
      "source": [
        "score = model.evaluate(x_test, y_test, verbose=0)\n",
        "print(\"Test loss:\", score[0])\n",
        "print(\"Test accuracy:\", score[1])"
      ],
      "execution_count": 76,
      "outputs": [
        {
          "output_type": "stream",
          "text": [
            "Test loss: 0.09785305708646774\n",
            "Test accuracy: 0.970714271068573\n"
          ],
          "name": "stdout"
        }
      ]
    },
    {
      "cell_type": "code",
      "metadata": {
        "id": "jCMB_WzQK9vS",
        "outputId": "82efe29a-faf8-460f-a0bb-f52d42bcccac",
        "colab": {
          "base_uri": "https://localhost:8080/"
        }
      },
      "source": [
        "test_path = '/content/testset.csv'\n",
        "raw_test_data = pd.read_csv(test_path)\n",
        "\n",
        "test_data = raw_test_data.values\n",
        "test_data = test_data.reshape(len(test_data),28,28)\n",
        "test_data = np.expand_dims(test_data, -1)\n",
        "print(test_data.shape)"
      ],
      "execution_count": 77,
      "outputs": [
        {
          "output_type": "stream",
          "text": [
            "(14000, 28, 28, 1)\n"
          ],
          "name": "stdout"
        }
      ]
    },
    {
      "cell_type": "code",
      "metadata": {
        "id": "uJH9smIOMjUG"
      },
      "source": [
        "test_values = model.predict_classes(test_data)"
      ],
      "execution_count": 78,
      "outputs": []
    },
    {
      "cell_type": "code",
      "metadata": {
        "id": "Gie5HlaJMtZt",
        "outputId": "f0e84bb7-1e47-4a22-bbe8-fd9ad0e8d0de",
        "colab": {
          "base_uri": "https://localhost:8080/",
          "height": 204
        }
      },
      "source": [
        "test_values = pd.DataFrame(test_values,columns=['Label'])\n",
        "\n",
        "imageID = pd.DataFrame(range(14000),columns=['ImageID'])\n",
        "imageID.index = range(14000)\n",
        "imageID['ImageID'] = imageID['ImageID']+1\n",
        "\n",
        "test_submission = imageID.join(test_values)\n",
        "test_submission.head()"
      ],
      "execution_count": 79,
      "outputs": [
        {
          "output_type": "execute_result",
          "data": {
            "text/html": [
              "<div>\n",
              "<style scoped>\n",
              "    .dataframe tbody tr th:only-of-type {\n",
              "        vertical-align: middle;\n",
              "    }\n",
              "\n",
              "    .dataframe tbody tr th {\n",
              "        vertical-align: top;\n",
              "    }\n",
              "\n",
              "    .dataframe thead th {\n",
              "        text-align: right;\n",
              "    }\n",
              "</style>\n",
              "<table border=\"1\" class=\"dataframe\">\n",
              "  <thead>\n",
              "    <tr style=\"text-align: right;\">\n",
              "      <th></th>\n",
              "      <th>ImageID</th>\n",
              "      <th>Label</th>\n",
              "    </tr>\n",
              "  </thead>\n",
              "  <tbody>\n",
              "    <tr>\n",
              "      <th>0</th>\n",
              "      <td>1</td>\n",
              "      <td>3</td>\n",
              "    </tr>\n",
              "    <tr>\n",
              "      <th>1</th>\n",
              "      <td>2</td>\n",
              "      <td>1</td>\n",
              "    </tr>\n",
              "    <tr>\n",
              "      <th>2</th>\n",
              "      <td>3</td>\n",
              "      <td>3</td>\n",
              "    </tr>\n",
              "    <tr>\n",
              "      <th>3</th>\n",
              "      <td>4</td>\n",
              "      <td>8</td>\n",
              "    </tr>\n",
              "    <tr>\n",
              "      <th>4</th>\n",
              "      <td>5</td>\n",
              "      <td>0</td>\n",
              "    </tr>\n",
              "  </tbody>\n",
              "</table>\n",
              "</div>"
            ],
            "text/plain": [
              "   ImageID  Label\n",
              "0        1      3\n",
              "1        2      1\n",
              "2        3      3\n",
              "3        4      8\n",
              "4        5      0"
            ]
          },
          "metadata": {
            "tags": []
          },
          "execution_count": 79
        }
      ]
    },
    {
      "cell_type": "code",
      "metadata": {
        "id": "tZnsbjwmNw3_"
      },
      "source": [
        "test_submission.to_csv('test_values.csv',index=False)"
      ],
      "execution_count": 80,
      "outputs": []
    }
  ]
}