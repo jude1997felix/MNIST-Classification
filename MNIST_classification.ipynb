{
  "nbformat": 4,
  "nbformat_minor": 0,
  "metadata": {
    "colab": {
      "name": "MNIST classification.ipynb",
      "provenance": []
    },
    "kernelspec": {
      "name": "python3",
      "display_name": "Python 3"
    },
    "accelerator": "GPU"
  },
  "cells": [
    {
      "cell_type": "code",
      "metadata": {
        "id": "Q3ZaIQfUkttj"
      },
      "source": [
        "import cv2\n",
        "import numpy as np\n",
        "import matplotlib.pyplot as plt\n",
        "import matplotlib.gridspec as gridspec\n",
        "# from local_utils import detect_lp\n",
        "from os.path import splitext,basename\n",
        "from keras.models import model_from_json\n",
        "import glob\n",
        "from PIL import Image\n",
        "import pandas as pd\n",
        "\n",
        "from tensorflow import keras\n",
        "from tensorflow.keras import layers"
      ],
      "execution_count": 53,
      "outputs": []
    },
    {
      "cell_type": "code",
      "metadata": {
        "id": "qvDEzendlGGZ",
        "outputId": "224e2221-cb73-4b5b-eb62-57d20d415b7d",
        "colab": {
          "base_uri": "https://localhost:8080/"
        }
      },
      "source": [
        "#  Model / data parameters\n",
        "num_classes = 10\n",
        "input_shape = (28, 28, 1)\n",
        "\n",
        "path = '/content/trainset.csv'\n",
        "\n",
        "df = pd.read_csv(path)\n",
        "n = len(df)\n",
        "train = df[0:int(n*0.85)]\n",
        "test = df[int(n*0.85):]\n",
        "len(train)"
      ],
      "execution_count": 54,
      "outputs": [
        {
          "output_type": "execute_result",
          "data": {
            "text/plain": [
              "23800"
            ]
          },
          "metadata": {
            "tags": []
          },
          "execution_count": 54
        }
      ]
    },
    {
      "cell_type": "code",
      "metadata": {
        "id": "19_d6dHGpGaf"
      },
      "source": [
        "y_train = train['label'].values\n",
        "del train['label']\n",
        "x_train = train.values\n",
        "\n",
        "y_test = test['label'].values\n",
        "del test['label']\n",
        "x_test = test.values\n"
      ],
      "execution_count": 55,
      "outputs": []
    },
    {
      "cell_type": "code",
      "metadata": {
        "id": "Y48rprlHKGqm",
        "outputId": "9879a304-0fbd-4627-c3b0-7b35272cdd56",
        "colab": {
          "base_uri": "https://localhost:8080/"
        }
      },
      "source": [
        "x_train = x_train.reshape(len(train),28,28)\n",
        "x_test = x_test.reshape(len(test),28,28,1)\n",
        "x_train = np.expand_dims(x_train, -1)\n",
        "x_test = np.expand_dims(x_test, -1)\n",
        "\n",
        "print(\"x_train shape:\", x_train.shape)\n",
        "print(x_train.shape[0], \"train samples\")\n",
        "print(x_test.shape[0], \"test samples\")"
      ],
      "execution_count": 56,
      "outputs": [
        {
          "output_type": "stream",
          "text": [
            "x_train shape: (23800, 28, 28, 1)\n",
            "23800 train samples\n",
            "4200 test samples\n"
          ],
          "name": "stdout"
        }
      ]
    },
    {
      "cell_type": "code",
      "metadata": {
        "id": "qD8bXX9eKxoY",
        "outputId": "560cad5e-4df0-4e18-849b-371e1d3e89de",
        "colab": {
          "base_uri": "https://localhost:8080/"
        }
      },
      "source": [
        "# convert class vectors to binary class matrices\n",
        "y_train = keras.utils.to_categorical(y_train, num_classes)\n",
        "y_test = keras.utils.to_categorical(y_test, num_classes)\n",
        "print(y_train.shape)"
      ],
      "execution_count": 57,
      "outputs": [
        {
          "output_type": "stream",
          "text": [
            "(23800, 10)\n"
          ],
          "name": "stdout"
        }
      ]
    },
    {
      "cell_type": "code",
      "metadata": {
        "id": "mse6ga_WH-Kc",
        "outputId": "0dfd78bb-4852-45df-ba6d-d5f01798d6be",
        "colab": {
          "base_uri": "https://localhost:8080/"
        }
      },
      "source": [
        "model = keras.Sequential(\n",
        "    [\n",
        "        keras.Input(shape=input_shape),\n",
        "        layers.Conv2D(32, kernel_size=(3, 3), activation=\"relu\"),\n",
        "        layers.MaxPooling2D(pool_size=(2, 2)),\n",
        "        layers.Conv2D(64, kernel_size=(3, 3), activation=\"relu\"),\n",
        "        layers.MaxPooling2D(pool_size=(2, 2)),\n",
        "        layers.Flatten(),\n",
        "        layers.Dropout(0.5),\n",
        "        layers.Dense(num_classes, activation=\"softmax\"),\n",
        "    ]\n",
        ")\n",
        "\n",
        "model.summary()\n"
      ],
      "execution_count": 61,
      "outputs": [
        {
          "output_type": "stream",
          "text": [
            "Model: \"sequential_3\"\n",
            "_________________________________________________________________\n",
            "Layer (type)                 Output Shape              Param #   \n",
            "=================================================================\n",
            "conv2d_6 (Conv2D)            (None, 26, 26, 32)        320       \n",
            "_________________________________________________________________\n",
            "max_pooling2d_6 (MaxPooling2 (None, 13, 13, 32)        0         \n",
            "_________________________________________________________________\n",
            "conv2d_7 (Conv2D)            (None, 11, 11, 64)        18496     \n",
            "_________________________________________________________________\n",
            "max_pooling2d_7 (MaxPooling2 (None, 5, 5, 64)          0         \n",
            "_________________________________________________________________\n",
            "flatten_3 (Flatten)          (None, 1600)              0         \n",
            "_________________________________________________________________\n",
            "dropout_3 (Dropout)          (None, 1600)              0         \n",
            "_________________________________________________________________\n",
            "dense_3 (Dense)              (None, 10)                16010     \n",
            "=================================================================\n",
            "Total params: 34,826\n",
            "Trainable params: 34,826\n",
            "Non-trainable params: 0\n",
            "_________________________________________________________________\n"
          ],
          "name": "stdout"
        }
      ]
    },
    {
      "cell_type": "code",
      "metadata": {
        "id": "NM4UTMjyIB2Y",
        "outputId": "e1cd04e0-4404-4cfd-e2b0-4946e28aedf9",
        "colab": {
          "base_uri": "https://localhost:8080/"
        }
      },
      "source": [
        "batch_size = 128\n",
        "epochs = 25\n",
        "\n",
        "model.compile(loss=\"categorical_crossentropy\", optimizer=\"adam\", metrics=[\"accuracy\"])\n",
        "\n",
        "model.fit(x_train, y_train, batch_size=batch_size, epochs=epochs, validation_split=0.1)"
      ],
      "execution_count": 62,
      "outputs": [
        {
          "output_type": "stream",
          "text": [
            "Epoch 1/25\n",
            "168/168 [==============================] - 1s 6ms/step - loss: 5.9093 - accuracy: 0.3744 - val_loss: 0.6312 - val_accuracy: 0.8017\n",
            "Epoch 2/25\n",
            "168/168 [==============================] - 1s 5ms/step - loss: 0.7791 - accuracy: 0.7420 - val_loss: 0.3232 - val_accuracy: 0.9038\n",
            "Epoch 3/25\n",
            "168/168 [==============================] - 1s 5ms/step - loss: 0.5352 - accuracy: 0.8254 - val_loss: 0.2501 - val_accuracy: 0.9273\n",
            "Epoch 4/25\n",
            "168/168 [==============================] - 1s 5ms/step - loss: 0.4408 - accuracy: 0.8549 - val_loss: 0.2188 - val_accuracy: 0.9336\n",
            "Epoch 5/25\n",
            "168/168 [==============================] - 1s 5ms/step - loss: 0.3881 - accuracy: 0.8726 - val_loss: 0.2125 - val_accuracy: 0.9370\n",
            "Epoch 6/25\n",
            "168/168 [==============================] - 1s 5ms/step - loss: 0.3635 - accuracy: 0.8826 - val_loss: 0.1945 - val_accuracy: 0.9399\n",
            "Epoch 7/25\n",
            "168/168 [==============================] - 1s 4ms/step - loss: 0.3429 - accuracy: 0.8882 - val_loss: 0.1941 - val_accuracy: 0.9441\n",
            "Epoch 8/25\n",
            "168/168 [==============================] - 1s 5ms/step - loss: 0.3235 - accuracy: 0.8966 - val_loss: 0.1964 - val_accuracy: 0.9424\n",
            "Epoch 9/25\n",
            "168/168 [==============================] - 1s 4ms/step - loss: 0.3075 - accuracy: 0.9005 - val_loss: 0.1625 - val_accuracy: 0.9483\n",
            "Epoch 10/25\n",
            "168/168 [==============================] - 1s 5ms/step - loss: 0.2890 - accuracy: 0.9066 - val_loss: 0.1700 - val_accuracy: 0.9441\n",
            "Epoch 11/25\n",
            "168/168 [==============================] - 1s 5ms/step - loss: 0.2821 - accuracy: 0.9097 - val_loss: 0.1539 - val_accuracy: 0.9571\n",
            "Epoch 12/25\n",
            "168/168 [==============================] - 1s 4ms/step - loss: 0.2547 - accuracy: 0.9183 - val_loss: 0.1598 - val_accuracy: 0.9483\n",
            "Epoch 13/25\n",
            "168/168 [==============================] - 1s 5ms/step - loss: 0.2495 - accuracy: 0.9184 - val_loss: 0.1536 - val_accuracy: 0.9542\n",
            "Epoch 14/25\n",
            "168/168 [==============================] - 1s 4ms/step - loss: 0.2361 - accuracy: 0.9218 - val_loss: 0.1412 - val_accuracy: 0.9550\n",
            "Epoch 15/25\n",
            "168/168 [==============================] - 1s 4ms/step - loss: 0.2341 - accuracy: 0.9254 - val_loss: 0.1467 - val_accuracy: 0.9559\n",
            "Epoch 16/25\n",
            "168/168 [==============================] - 1s 5ms/step - loss: 0.2254 - accuracy: 0.9279 - val_loss: 0.1326 - val_accuracy: 0.9567\n",
            "Epoch 17/25\n",
            "168/168 [==============================] - 1s 5ms/step - loss: 0.2128 - accuracy: 0.9313 - val_loss: 0.1379 - val_accuracy: 0.9559\n",
            "Epoch 18/25\n",
            "168/168 [==============================] - 1s 5ms/step - loss: 0.2023 - accuracy: 0.9343 - val_loss: 0.1227 - val_accuracy: 0.9639\n",
            "Epoch 19/25\n",
            "168/168 [==============================] - 1s 4ms/step - loss: 0.1947 - accuracy: 0.9355 - val_loss: 0.1283 - val_accuracy: 0.9622\n",
            "Epoch 20/25\n",
            "168/168 [==============================] - 1s 4ms/step - loss: 0.1964 - accuracy: 0.9366 - val_loss: 0.1331 - val_accuracy: 0.9643\n",
            "Epoch 21/25\n",
            "168/168 [==============================] - 1s 5ms/step - loss: 0.1748 - accuracy: 0.9437 - val_loss: 0.1286 - val_accuracy: 0.9618\n",
            "Epoch 22/25\n",
            "168/168 [==============================] - 1s 4ms/step - loss: 0.1791 - accuracy: 0.9397 - val_loss: 0.1140 - val_accuracy: 0.9664\n",
            "Epoch 23/25\n",
            "168/168 [==============================] - 1s 5ms/step - loss: 0.1665 - accuracy: 0.9453 - val_loss: 0.1210 - val_accuracy: 0.9592\n",
            "Epoch 24/25\n",
            "168/168 [==============================] - 1s 4ms/step - loss: 0.1606 - accuracy: 0.9467 - val_loss: 0.1129 - val_accuracy: 0.9626\n",
            "Epoch 25/25\n",
            "168/168 [==============================] - 1s 5ms/step - loss: 0.1593 - accuracy: 0.9482 - val_loss: 0.1137 - val_accuracy: 0.9647\n"
          ],
          "name": "stdout"
        },
        {
          "output_type": "execute_result",
          "data": {
            "text/plain": [
              "<tensorflow.python.keras.callbacks.History at 0x7fc7d7f80208>"
            ]
          },
          "metadata": {
            "tags": []
          },
          "execution_count": 62
        }
      ]
    },
    {
      "cell_type": "code",
      "metadata": {
        "id": "10oTTmbpIVID",
        "outputId": "3e1449d3-2fc5-4596-eb3c-6bffaaa6024a",
        "colab": {
          "base_uri": "https://localhost:8080/"
        }
      },
      "source": [
        "score = model.evaluate(x_test, y_test, verbose=0)\n",
        "print(\"Test loss:\", score[0])\n",
        "print(\"Test accuracy:\", score[1])"
      ],
      "execution_count": 63,
      "outputs": [
        {
          "output_type": "stream",
          "text": [
            "Test loss: 0.11045809835195541\n",
            "Test accuracy: 0.9669047594070435\n"
          ],
          "name": "stdout"
        }
      ]
    },
    {
      "cell_type": "code",
      "metadata": {
        "id": "jCMB_WzQK9vS",
        "outputId": "641f6cd7-bacf-4525-89cd-4da097dee632",
        "colab": {
          "base_uri": "https://localhost:8080/"
        }
      },
      "source": [
        "test_path = '/content/testset.csv'\n",
        "raw_test_data = pd.read_csv(test_path)\n",
        "\n",
        "test_data = raw_test_data.values\n",
        "test_data = test_data.reshape(len(test_data),28,28)\n",
        "test_data = np.expand_dims(test_data, -1)\n",
        "print(test_data.shape)"
      ],
      "execution_count": 64,
      "outputs": [
        {
          "output_type": "stream",
          "text": [
            "(14000, 28, 28, 1)\n"
          ],
          "name": "stdout"
        }
      ]
    },
    {
      "cell_type": "code",
      "metadata": {
        "id": "uJH9smIOMjUG"
      },
      "source": [
        "test_values = model.predict_classes(test_data)"
      ],
      "execution_count": 65,
      "outputs": []
    },
    {
      "cell_type": "code",
      "metadata": {
        "id": "Gie5HlaJMtZt",
        "outputId": "23dafeb5-af02-40b6-c68e-677c6a16db72",
        "colab": {
          "base_uri": "https://localhost:8080/",
          "height": 204
        }
      },
      "source": [
        "test_values = pd.DataFrame(test_values,columns=['Label'])\n",
        "\n",
        "imageID = pd.DataFrame(range(14000),columns=['ImageID'])\n",
        "imageID.index = range(14000)\n",
        "imageID['ImageID'] = imageID['ImageID']+1\n",
        "\n",
        "test_submission = imageID.join(test_values)\n",
        "test_submission.head()"
      ],
      "execution_count": 67,
      "outputs": [
        {
          "output_type": "execute_result",
          "data": {
            "text/html": [
              "<div>\n",
              "<style scoped>\n",
              "    .dataframe tbody tr th:only-of-type {\n",
              "        vertical-align: middle;\n",
              "    }\n",
              "\n",
              "    .dataframe tbody tr th {\n",
              "        vertical-align: top;\n",
              "    }\n",
              "\n",
              "    .dataframe thead th {\n",
              "        text-align: right;\n",
              "    }\n",
              "</style>\n",
              "<table border=\"1\" class=\"dataframe\">\n",
              "  <thead>\n",
              "    <tr style=\"text-align: right;\">\n",
              "      <th></th>\n",
              "      <th>ImageID</th>\n",
              "      <th>Label</th>\n",
              "    </tr>\n",
              "  </thead>\n",
              "  <tbody>\n",
              "    <tr>\n",
              "      <th>0</th>\n",
              "      <td>1</td>\n",
              "      <td>3</td>\n",
              "    </tr>\n",
              "    <tr>\n",
              "      <th>1</th>\n",
              "      <td>2</td>\n",
              "      <td>1</td>\n",
              "    </tr>\n",
              "    <tr>\n",
              "      <th>2</th>\n",
              "      <td>3</td>\n",
              "      <td>3</td>\n",
              "    </tr>\n",
              "    <tr>\n",
              "      <th>3</th>\n",
              "      <td>4</td>\n",
              "      <td>7</td>\n",
              "    </tr>\n",
              "    <tr>\n",
              "      <th>4</th>\n",
              "      <td>5</td>\n",
              "      <td>0</td>\n",
              "    </tr>\n",
              "  </tbody>\n",
              "</table>\n",
              "</div>"
            ],
            "text/plain": [
              "   ImageID  Label\n",
              "0        1      3\n",
              "1        2      1\n",
              "2        3      3\n",
              "3        4      7\n",
              "4        5      0"
            ]
          },
          "metadata": {
            "tags": []
          },
          "execution_count": 67
        }
      ]
    },
    {
      "cell_type": "code",
      "metadata": {
        "id": "tZnsbjwmNw3_"
      },
      "source": [
        "test_submission.to_csv('test_values.csv',index=False)"
      ],
      "execution_count": 68,
      "outputs": []
    }
  ]
}